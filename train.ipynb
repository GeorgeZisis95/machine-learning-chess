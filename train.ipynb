{
 "cells": [
  {
   "cell_type": "code",
   "execution_count": 1,
   "id": "4d52011c",
   "metadata": {},
   "outputs": [],
   "source": [
    "import tqdm\n",
    "import torch"
   ]
  },
  {
   "cell_type": "code",
   "execution_count": 2,
   "id": "4fdddb95",
   "metadata": {},
   "outputs": [],
   "source": [
    "from src.dataset import load_pgn, load_multiple_pgns, create_value_csv_dataset\n",
    "from src.dataclass import ChessDataset\n",
    "from src.model import ConvNet"
   ]
  },
  {
   "cell_type": "code",
   "execution_count": null,
   "id": "fef5cc12",
   "metadata": {},
   "outputs": [],
   "source": [
    "# Step 1: Create my training dataset\n",
    "games = load_multiple_pgns(num_pgns=26)\n",
    "create_value_csv_dataset(games, name=\"first26.2\")"
   ]
  },
  {
   "cell_type": "code",
   "execution_count": null,
   "id": "0b9f17fb",
   "metadata": {},
   "outputs": [],
   "source": [
    "# The step above created a csv file with 2.302.559 chess state-action pairs\n",
    "# Since I have many different datasets I can use some of them as validation sets\n",
    "# This way I can skip performing a train - test split\n",
    "# I also added value to my dataset"
   ]
  },
  {
   "cell_type": "code",
   "execution_count": null,
   "id": "a85397b9",
   "metadata": {},
   "outputs": [],
   "source": [
    "# Step 2: Create a validation dataset\n",
    "games = load_pgn(\"data/pgn/lichess_elite_2016-01.pgn\")\n",
    "create_value_csv_dataset(games, name=\"le2016-01.2\")"
   ]
  },
  {
   "cell_type": "code",
   "execution_count": 3,
   "id": "66f88634",
   "metadata": {},
   "outputs": [],
   "source": [
    "# Step 3: Load the data using the pytorch Dataset and Dataloader classes\n",
    "dataset = ChessDataset(\"data/csv/first26.2.csv\")\n",
    "loader = torch.utils.data.DataLoader(dataset, batch_size=256, shuffle=True)"
   ]
  },
  {
   "cell_type": "code",
   "execution_count": 4,
   "id": "859c9774",
   "metadata": {},
   "outputs": [],
   "source": [
    "# Step 4: Initialize the model\n",
    "device = torch.device(\"cuda\" if torch.cuda.is_available() else \"cpu\")\n",
    "model = ConvNet()\n",
    "model = model.to(device)"
   ]
  },
  {
   "cell_type": "code",
   "execution_count": 5,
   "id": "2d387035",
   "metadata": {},
   "outputs": [
    {
     "data": {
      "text/plain": [
       "ConvNet(\n",
       "  (conv1): Conv2d(18, 32, kernel_size=(3, 3), stride=(1, 1), padding=(1, 1))\n",
       "  (conv2): Conv2d(32, 64, kernel_size=(3, 3), stride=(1, 1), padding=(1, 1))\n",
       "  (conv3): Conv2d(64, 64, kernel_size=(3, 3), stride=(1, 1), padding=(1, 1))\n",
       "  (fc1): Linear(in_features=4096, out_features=512, bias=True)\n",
       "  (fc2): Linear(in_features=512, out_features=4544, bias=True)\n",
       "  (fc3): Linear(in_features=4096, out_features=256, bias=True)\n",
       "  (fc4): Linear(in_features=256, out_features=1, bias=True)\n",
       ")"
      ]
     },
     "execution_count": 5,
     "metadata": {},
     "output_type": "execute_result"
    }
   ],
   "source": [
    "model"
   ]
  },
  {
   "cell_type": "code",
   "execution_count": 6,
   "id": "ba3030fd",
   "metadata": {},
   "outputs": [],
   "source": [
    "# Step 5: Choose a loss function and the optimizer\n",
    "policy_loss = torch.nn.CrossEntropyLoss()\n",
    "value_loss = torch.nn.MSELoss()\n",
    "optimizer = torch.optim.Adam(model.parameters(), lr=0.001)"
   ]
  },
  {
   "cell_type": "code",
   "execution_count": 7,
   "id": "369fff04",
   "metadata": {},
   "outputs": [],
   "source": [
    "# If the model isn't loaded training starts at 0 epochs\n",
    "epoch = 0"
   ]
  },
  {
   "cell_type": "code",
   "execution_count": null,
   "id": "45195e12",
   "metadata": {},
   "outputs": [],
   "source": [
    "# This cell loads the model from a previous state\n",
    "checkpoint = torch.load(f\"models/le_first_26.pth\")\n",
    "model.load_state_dict(checkpoint['model_state_dict'])\n",
    "optimizer.load_state_dict(checkpoint['optimizer_state_dict'])\n",
    "epoch = checkpoint['epoch'] + 1"
   ]
  },
  {
   "cell_type": "code",
   "execution_count": null,
   "id": "3ecd7a79",
   "metadata": {},
   "outputs": [
    {
     "name": "stderr",
     "output_type": "stream",
     "text": [
      "100%|██████████| 1/1 [10:30<00:00, 630.88s/it]"
     ]
    },
    {
     "name": "stdout",
     "output_type": "stream",
     "text": [
      "Epoch 1/0 - Policy Loss: 31136.5629 - Value Loss: 7615.7364\n",
      "Epoch 1/0, Loss: 3.4615\n",
      "Checkpoint saved at epoch 0\n"
     ]
    },
    {
     "name": "stderr",
     "output_type": "stream",
     "text": [
      "\n"
     ]
    }
   ],
   "source": [
    "# Step 6: Train the model\n",
    "EPOCHS = 50\n",
    "train_losses = []\n",
    "for epoch in tqdm.trange(epoch, EPOCHS+1):\n",
    "    model.train()\n",
    "    total_policy_loss = 0\n",
    "    total_value_loss = 0\n",
    "\n",
    "    for boards, labels, values in loader:\n",
    "        boards = boards.to(device)\n",
    "        labels = labels.to(device)\n",
    "        values = values.to(device).float()\n",
    "\n",
    "        optimizer.zero_grad()\n",
    "\n",
    "        policy, value = model(boards)\n",
    "        p_loss = policy_loss(policy, labels)\n",
    "        v_loss = value_loss(value.squeeze(), values)\n",
    "\n",
    "        loss = p_loss + v_loss\n",
    "\n",
    "        loss.backward()\n",
    "        optimizer.step()\n",
    "\n",
    "        total_policy_loss += p_loss.item()\n",
    "        total_value_loss += v_loss.item()\n",
    "\n",
    "    avg_p_loss = total_policy_loss / len(loader)\n",
    "    avg_v_loss = total_value_loss / len(loader)\n",
    "\n",
    "    print(f\"Epoch {epoch+1}/{EPOCHS+1} - Policy Loss: {avg_p_loss:.4f} - Value Loss: {avg_v_loss:.4f}\")\n",
    "\n",
    "    train_losses.append(avg_p_loss)\n",
    "    torch.save({\n",
    "    \"train_losses\": train_losses,\n",
    "    }, \"data/loss/loss_log_4.pt\")\n",
    "\n",
    "    if epoch % 10 == 0:\n",
    "        torch.save({\n",
    "            'epoch': epoch,\n",
    "            'model_state_dict': model.state_dict(),\n",
    "            'optimizer_state_dict': optimizer.state_dict(),\n",
    "        }, f\"models/model.4.{epoch}.pth\")\n",
    "\n",
    "        print(f\"Checkpoint saved at epoch {epoch}\")"
   ]
  },
  {
   "cell_type": "code",
   "execution_count": null,
   "id": "7e742973",
   "metadata": {},
   "outputs": [],
   "source": []
  }
 ],
 "metadata": {
  "kernelspec": {
   "display_name": "torchEnv",
   "language": "python",
   "name": "python3"
  },
  "language_info": {
   "codemirror_mode": {
    "name": "ipython",
    "version": 3
   },
   "file_extension": ".py",
   "mimetype": "text/x-python",
   "name": "python",
   "nbconvert_exporter": "python",
   "pygments_lexer": "ipython3",
   "version": "3.10.11"
  }
 },
 "nbformat": 4,
 "nbformat_minor": 5
}
