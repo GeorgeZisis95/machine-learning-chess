{
 "cells": [
  {
   "cell_type": "code",
   "execution_count": null,
   "id": "4d52011c",
   "metadata": {},
   "outputs": [],
   "source": [
    "import tqdm\n",
    "import torch"
   ]
  },
  {
   "cell_type": "code",
   "execution_count": null,
   "id": "4fdddb95",
   "metadata": {},
   "outputs": [],
   "source": [
    "from src.dataset import load_pgn, load_multiple_pgns, create_csv_dataset\n",
    "from src.dataclass import ChessDataset\n",
    "from src.model import ConvModel, ResNet"
   ]
  },
  {
   "cell_type": "code",
   "execution_count": null,
   "id": "fef5cc12",
   "metadata": {},
   "outputs": [],
   "source": [
    "# Step 1: Create my training dataset\n",
    "games = load_multiple_pgns(num_pgns=26)\n",
    "create_csv_dataset(games, name=\"le_first_26\")"
   ]
  },
  {
   "cell_type": "code",
   "execution_count": null,
   "id": "0b9f17fb",
   "metadata": {},
   "outputs": [],
   "source": [
    "# The step above created a csv file with 2.302.559 chess state-action pairs\n",
    "# Since I have many different datasets I can use some of them as validation sets\n",
    "# This way I can skip performing a train - test split"
   ]
  },
  {
   "cell_type": "code",
   "execution_count": null,
   "id": "a85397b9",
   "metadata": {},
   "outputs": [],
   "source": [
    "# Step 2: Create a validation dataset\n",
    "games = load_pgn(\"data/pgn/lichess_elite_2016-01.pgn\")\n",
    "create_csv_dataset(games, name=\"le_2016-01\")"
   ]
  },
  {
   "cell_type": "code",
   "execution_count": null,
   "id": "66f88634",
   "metadata": {},
   "outputs": [],
   "source": [
    "# Step 3: Load the data using the pytorch Dataset and Dataloader classes\n",
    "dataset = ChessDataset(\"data/csv/le_first_26.csv\")\n",
    "loader = torch.utils.data.DataLoader(dataset, batch_size=256, shuffle=True)"
   ]
  },
  {
   "cell_type": "code",
   "execution_count": null,
   "id": "859c9774",
   "metadata": {},
   "outputs": [],
   "source": [
    "# Step 4: Initialize the model\n",
    "device = torch.device(\"cuda\" if torch.cuda.is_available() else \"cpu\")\n",
    "model = ResNet(filters=64, res_blocks=4)\n",
    "model = model.to(device)"
   ]
  },
  {
   "cell_type": "code",
   "execution_count": null,
   "id": "2d387035",
   "metadata": {},
   "outputs": [],
   "source": [
    "model"
   ]
  },
  {
   "cell_type": "code",
   "execution_count": null,
   "id": "ba3030fd",
   "metadata": {},
   "outputs": [],
   "source": [
    "# Step 5: Choose a loss function and the optimizer\n",
    "criterion = torch.nn.CrossEntropyLoss()\n",
    "optimizer = torch.optim.Adam(model.parameters(), lr=0.001)"
   ]
  },
  {
   "cell_type": "code",
   "execution_count": null,
   "id": "369fff04",
   "metadata": {},
   "outputs": [],
   "source": [
    "# If the model isn't loaded training starts at 0 epochs\n",
    "epoch = 0"
   ]
  },
  {
   "cell_type": "code",
   "execution_count": null,
   "id": "45195e12",
   "metadata": {},
   "outputs": [],
   "source": [
    "# This cell loads the model from a previous state\n",
    "checkpoint = torch.load(f\"models/le_first_26.pth\")\n",
    "model.load_state_dict(checkpoint['model_state_dict'])\n",
    "optimizer.load_state_dict(checkpoint['optimizer_state_dict'])\n",
    "epoch = checkpoint['epoch'] + 1"
   ]
  },
  {
   "cell_type": "code",
   "execution_count": null,
   "id": "3ecd7a79",
   "metadata": {},
   "outputs": [],
   "source": [
    "# Step 6: Train the model\n",
    "EPOCHS = 50\n",
    "train_losses = []\n",
    "for epoch in tqdm.trange(epoch, EPOCHS+1):\n",
    "    model.train()\n",
    "    total_loss = 0\n",
    "\n",
    "    for boards, labels in loader:\n",
    "        boards = boards.to(device)\n",
    "        labels = labels.to(device)\n",
    "\n",
    "        optimizer.zero_grad()\n",
    "        outputs = model(boards)\n",
    "        loss = criterion(outputs, labels)\n",
    "        loss.backward()\n",
    "        optimizer.step()\n",
    "\n",
    "        total_loss += loss.item()\n",
    "\n",
    "    avg_loss = total_loss / len(loader)\n",
    "\n",
    "    train_losses.append(avg_loss)\n",
    "    torch.save({\n",
    "    \"train_losses\": train_losses,\n",
    "    }, \"data/loss/loss_log_3.pt\")\n",
    "    \n",
    "    print(f\"Epoch {epoch + 1}/{EPOCHS}, Loss: {avg_loss:.4f}\")\n",
    "\n",
    "    if epoch % 10 == 0:\n",
    "        torch.save({\n",
    "            'epoch': epoch,\n",
    "            'model_state_dict': model.state_dict(),\n",
    "            'optimizer_state_dict': optimizer.state_dict(),\n",
    "            'loss': avg_loss,\n",
    "        }, f\"models/model.3.{epoch}.pth\")\n",
    "\n",
    "        print(f\"Checkpoint saved at epoch {epoch}\")"
   ]
  },
  {
   "cell_type": "code",
   "execution_count": null,
   "id": "7e742973",
   "metadata": {},
   "outputs": [],
   "source": []
  }
 ],
 "metadata": {
  "kernelspec": {
   "display_name": "torchEnv",
   "language": "python",
   "name": "python3"
  },
  "language_info": {
   "codemirror_mode": {
    "name": "ipython",
    "version": 3
   },
   "file_extension": ".py",
   "mimetype": "text/x-python",
   "name": "python",
   "nbconvert_exporter": "python",
   "pygments_lexer": "ipython3",
   "version": "3.10.11"
  }
 },
 "nbformat": 4,
 "nbformat_minor": 5
}
