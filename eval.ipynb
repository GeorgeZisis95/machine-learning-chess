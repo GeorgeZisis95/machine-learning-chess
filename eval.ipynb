{
 "cells": [
  {
   "cell_type": "code",
   "execution_count": 1,
   "id": "ba462df9",
   "metadata": {},
   "outputs": [],
   "source": [
    "import torch\n",
    "import chess\n",
    "import numpy as np"
   ]
  },
  {
   "cell_type": "code",
   "execution_count": 2,
   "id": "d49d1783",
   "metadata": {},
   "outputs": [],
   "source": [
    "from src.model import ResNet\n",
    "from src.dataclass import ChessDataset\n",
    "from src.encode import get_canonical_board, uci_to_index, all_uci_moves"
   ]
  },
  {
   "cell_type": "code",
   "execution_count": 3,
   "id": "0cc8f5fb",
   "metadata": {},
   "outputs": [],
   "source": [
    "# Step 1: Load the validation set, in this case we take January 2016\n",
    "val_dataset = ChessDataset(\"data/csv/le2017-01.csv\")\n",
    "val_loader = torch.utils.data.DataLoader(val_dataset, batch_size=256, shuffle=False, num_workers=4)"
   ]
  },
  {
   "cell_type": "code",
   "execution_count": 4,
   "id": "78f77597",
   "metadata": {},
   "outputs": [],
   "source": [
    "# Step 2: Initialize the model and device\n",
    "device = torch.device(\"cuda\" if torch.cuda.is_available() else \"cpu\")\n",
    "model = ResNet(filters=128, res_blocks=6)"
   ]
  },
  {
   "cell_type": "code",
   "execution_count": 5,
   "id": "e1752535",
   "metadata": {},
   "outputs": [
    {
     "data": {
      "text/plain": [
       "<All keys matched successfully>"
      ]
     },
     "execution_count": 5,
     "metadata": {},
     "output_type": "execute_result"
    }
   ],
   "source": [
    "# Step 3: Load the trained model\n",
    "checkpoint = torch.load(f\"models/model5/model.50.pth\")\n",
    "model.load_state_dict(checkpoint['model_state_dict'])"
   ]
  },
  {
   "cell_type": "code",
   "execution_count": 6,
   "id": "fdc9cb22",
   "metadata": {},
   "outputs": [
    {
     "data": {
      "text/plain": [
       "ResNet(\n",
       "  (start_block): Sequential(\n",
       "    (0): Conv2d(18, 128, kernel_size=(3, 3), stride=(1, 1), padding=(1, 1), bias=False)\n",
       "    (1): BatchNorm2d(128, eps=1e-05, momentum=0.1, affine=True, track_running_stats=True)\n",
       "    (2): ReLU()\n",
       "  )\n",
       "  (res_tower): ModuleList(\n",
       "    (0-5): 6 x ResBlock(\n",
       "      (conv1): Conv2d(128, 128, kernel_size=(3, 3), stride=(1, 1), padding=(1, 1), bias=False)\n",
       "      (batch1): BatchNorm2d(128, eps=1e-05, momentum=0.1, affine=True, track_running_stats=True)\n",
       "      (conv2): Conv2d(128, 128, kernel_size=(3, 3), stride=(1, 1), padding=(1, 1), bias=False)\n",
       "      (batch2): BatchNorm2d(128, eps=1e-05, momentum=0.1, affine=True, track_running_stats=True)\n",
       "    )\n",
       "  )\n",
       "  (policy_head): Sequential(\n",
       "    (0): Conv2d(128, 2, kernel_size=(1, 1), stride=(1, 1))\n",
       "    (1): BatchNorm2d(2, eps=1e-05, momentum=0.1, affine=True, track_running_stats=True)\n",
       "    (2): ReLU()\n",
       "    (3): Flatten(start_dim=1, end_dim=-1)\n",
       "    (4): Linear(in_features=128, out_features=4544, bias=True)\n",
       "  )\n",
       "  (value_head): Sequential(\n",
       "    (0): Conv2d(128, 1, kernel_size=(1, 1), stride=(1, 1))\n",
       "    (1): BatchNorm2d(1, eps=1e-05, momentum=0.1, affine=True, track_running_stats=True)\n",
       "    (2): ReLU()\n",
       "    (3): Flatten(start_dim=1, end_dim=-1)\n",
       "    (4): Linear(in_features=64, out_features=1, bias=True)\n",
       "    (5): Tanh()\n",
       "  )\n",
       ")"
      ]
     },
     "execution_count": 6,
     "metadata": {},
     "output_type": "execute_result"
    }
   ],
   "source": [
    "# Step 4: Cast model to device and enter evaluation mode\n",
    "model.to(device)\n",
    "model.eval()"
   ]
  },
  {
   "cell_type": "code",
   "execution_count": 8,
   "id": "bb815ac8",
   "metadata": {},
   "outputs": [],
   "source": [
    "# Step 5: Predict how many times the model picks the best move or at least one of the three best moves\n",
    "correct_top_1 = 0\n",
    "correct_top_3 = 0\n",
    "total = 0\n",
    "\n",
    "with torch.no_grad():\n",
    "    for inputs, labels, values in val_loader:\n",
    "        inputs, labels = inputs.to(device), labels.to(device)\n",
    "        values = values.to(device).float()\n",
    "\n",
    "        policy, value = model(inputs)\n",
    "        probabilities = torch.softmax(policy, dim=1)\n",
    "\n",
    "        pred_top_1 = probabilities.argmax(dim=1)\n",
    "        correct_top_1 += (pred_top_1 == labels).sum().item()\n",
    "\n",
    "        pred_top_3 = torch.topk(probabilities, k=3, dim=1).indices\n",
    "        correct_top_3 += sum([labels[i] in pred_top_3[i] for i in range(len(labels))])\n",
    "\n",
    "        total += labels.size(0)\n",
    "\n",
    "top_1_accuracy = 100 * correct_top_1 / total\n",
    "top_3_accuracy = 100 * correct_top_3 / total"
   ]
  },
  {
   "cell_type": "code",
   "execution_count": 9,
   "id": "1d9cfa20",
   "metadata": {},
   "outputs": [
    {
     "name": "stdout",
     "output_type": "stream",
     "text": [
      "\n",
      "Validation Results:\n",
      "Top-1 accuracy: 53.53%\n",
      "Top-3 accuracy: 81.48%\n"
     ]
    }
   ],
   "source": [
    "print(f\"\\nValidation Results:\\nTop-1 accuracy: {top_1_accuracy:.2f}%\\nTop-3 accuracy: {top_3_accuracy:.2f}%\")"
   ]
  },
  {
   "cell_type": "code",
   "execution_count": 10,
   "id": "c15cbdf7",
   "metadata": {},
   "outputs": [],
   "source": [
    "# With only 5 epochs of training the model manages to find the best move 28% of the time and half the time it finds\n",
    "# one of the three best moves. This looks promising but we have to visualize the performance more. \n",
    "\n",
    "# With helper planes and 50 epochs, the loss is 1.7 and the top1 accuracy is 48.72% while top3 acc is 74.73%\n",
    "\n",
    "# ResNet seems to perform worse than our second version model. One reason might be that the dataset is not that large. \n",
    "\n",
    "# Training the ConvNet with both a policy and value head this time, again gives me top1 47.99 and top3 74.1\n",
    "\n",
    "# Training resnet with policy and value head (alpha zero style) with 128 filters and 6 resblocks on a dataset of 25million positions.\n",
    "# After 28 epochs it achieves top1 acc 53% and top3 acc 80.95% on the validation set\n",
    "\n",
    "# Made mistake earlier and had val on 2016 now changed to 2017\n",
    "\n",
    "# top1 53.53 top3 81.48 still super good"
   ]
  },
  {
   "cell_type": "code",
   "execution_count": 7,
   "id": "f0f92a73",
   "metadata": {},
   "outputs": [],
   "source": [
    "# Step 6: Predict a good legal move\n",
    "ACTION_SIZE = 4544\n",
    "\n",
    "def mask_actions(indices):\n",
    "    total_actions = [0] * ACTION_SIZE\n",
    "    for index in indices:\n",
    "        total_actions[index] = 1\n",
    "    return total_actions\n",
    "\n",
    "def get_model_output(board):\n",
    "    model_input = torch.from_numpy(get_canonical_board(board.fen())).unsqueeze(0).to(device)\n",
    "    with torch.no_grad():\n",
    "        logits, _ = model(model_input)\n",
    "        probs = torch.softmax(logits, dim=1).squeeze()\n",
    "    return probs.squeeze(0).detach().cpu().numpy()\n",
    "\n",
    "def filter_policy(probs, mask):\n",
    "    probs = probs * mask\n",
    "    probs = probs / np.sum(probs)\n",
    "    return probs\n",
    "\n",
    "def get_policy(board, threshold=0.05):\n",
    "    legal_moves = [element.uci() for element in board.legal_moves]\n",
    "    legal_indices = []\n",
    "    for legal_move in legal_moves:\n",
    "        legal_indices.append(uci_to_index[legal_move])\n",
    "    total_actions = mask_actions(legal_indices)\n",
    "    policy = get_model_output(board)\n",
    "    policy = filter_policy(policy, total_actions)\n",
    "    best_indices = np.where(policy > threshold)[0]\n",
    "    total_actions = mask_actions(best_indices)\n",
    "    policy = filter_policy(policy, total_actions)\n",
    "    return policy\n",
    "\n",
    "def get_uci_move(board):\n",
    "    probs = get_policy(board)\n",
    "    uci_move = np.random.choice(all_uci_moves, p=probs)\n",
    "    return chess.Move.from_uci(uci_move)"
   ]
  },
  {
   "cell_type": "code",
   "execution_count": 13,
   "id": "8ff0b443",
   "metadata": {},
   "outputs": [
    {
     "name": "stdout",
     "output_type": "stream",
     "text": [
      "\n",
      "Game over: 1-0\n",
      "Game saved to game_output.pgn — upload it to Lichess to review!\n"
     ]
    }
   ],
   "source": [
    "# Step 7: Get the pgn of a game played by the network for evaluation\n",
    "import chess.pgn\n",
    "\n",
    "game = chess.pgn.Game()\n",
    "game.headers[\"Event\"] = \"Evaluation Game\"\n",
    "game.headers[\"Site\"] = \"Local\"\n",
    "game.headers[\"White\"] = \"Human\"\n",
    "game.headers[\"Black\"] = \"Model\"\n",
    "\n",
    "node = game\n",
    "\n",
    "board = chess.Board()\n",
    "while not board.is_game_over():\n",
    "    move = get_uci_move(board)\n",
    "    board.push(move)\n",
    "    node = node.add_variation(move)\n",
    "print(\"\\nGame over:\", board.result())\n",
    "with open(\"data/eval/v5.5.pgn\", \"w\") as pgn_file:\n",
    "    print(game, file=pgn_file)\n",
    "\n",
    "print(\"Game saved to game_output.pgn — upload it to Lichess to review!\")"
   ]
  },
  {
   "cell_type": "code",
   "execution_count": null,
   "id": "04a04f00",
   "metadata": {},
   "outputs": [],
   "source": []
  },
  {
   "cell_type": "code",
   "execution_count": null,
   "id": "39e8a72a",
   "metadata": {},
   "outputs": [],
   "source": []
  }
 ],
 "metadata": {
  "kernelspec": {
   "display_name": "torchEnv",
   "language": "python",
   "name": "python3"
  },
  "language_info": {
   "codemirror_mode": {
    "name": "ipython",
    "version": 3
   },
   "file_extension": ".py",
   "mimetype": "text/x-python",
   "name": "python",
   "nbconvert_exporter": "python",
   "pygments_lexer": "ipython3",
   "version": "3.10.11"
  }
 },
 "nbformat": 4,
 "nbformat_minor": 5
}
